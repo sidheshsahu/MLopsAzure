{
 "cells": [
  {
   "cell_type": "code",
   "execution_count": 2,
   "id": "528772a3",
   "metadata": {},
   "outputs": [],
   "source": [
    "import numpy as np\n",
    "import pandas as pd\n",
    "import seaborn as sns\n",
    "import matplotlib.pyplot as plt\n",
    "from sklearn.model_selection import train_test_split\n",
    "from sklearn.preprocessing import LabelEncoder,OneHotEncoder\n"
   ]
  },
  {
   "cell_type": "code",
   "execution_count": 3,
   "id": "74a017fa",
   "metadata": {},
   "outputs": [],
   "source": [
    "df=pd.read_csv(\"placementdata.csv\")"
   ]
  },
  {
   "cell_type": "code",
   "execution_count": 4,
   "id": "f970f993",
   "metadata": {},
   "outputs": [
    {
     "data": {
      "text/html": [
       "<div>\n",
       "<style scoped>\n",
       "    .dataframe tbody tr th:only-of-type {\n",
       "        vertical-align: middle;\n",
       "    }\n",
       "\n",
       "    .dataframe tbody tr th {\n",
       "        vertical-align: top;\n",
       "    }\n",
       "\n",
       "    .dataframe thead th {\n",
       "        text-align: right;\n",
       "    }\n",
       "</style>\n",
       "<table border=\"1\" class=\"dataframe\">\n",
       "  <thead>\n",
       "    <tr style=\"text-align: right;\">\n",
       "      <th></th>\n",
       "      <th>StudentID</th>\n",
       "      <th>CGPA</th>\n",
       "      <th>Internships</th>\n",
       "      <th>Projects</th>\n",
       "      <th>Workshops/Certifications</th>\n",
       "      <th>AptitudeTestScore</th>\n",
       "      <th>SoftSkillsRating</th>\n",
       "      <th>ExtracurricularActivities</th>\n",
       "      <th>PlacementTraining</th>\n",
       "      <th>SSC_Marks</th>\n",
       "      <th>HSC_Marks</th>\n",
       "      <th>PlacementStatus</th>\n",
       "    </tr>\n",
       "  </thead>\n",
       "  <tbody>\n",
       "    <tr>\n",
       "      <th>0</th>\n",
       "      <td>1</td>\n",
       "      <td>7.5</td>\n",
       "      <td>1</td>\n",
       "      <td>1</td>\n",
       "      <td>1</td>\n",
       "      <td>65</td>\n",
       "      <td>4.4</td>\n",
       "      <td>No</td>\n",
       "      <td>No</td>\n",
       "      <td>61</td>\n",
       "      <td>79</td>\n",
       "      <td>NotPlaced</td>\n",
       "    </tr>\n",
       "    <tr>\n",
       "      <th>1</th>\n",
       "      <td>2</td>\n",
       "      <td>8.9</td>\n",
       "      <td>0</td>\n",
       "      <td>3</td>\n",
       "      <td>2</td>\n",
       "      <td>90</td>\n",
       "      <td>4.0</td>\n",
       "      <td>Yes</td>\n",
       "      <td>Yes</td>\n",
       "      <td>78</td>\n",
       "      <td>82</td>\n",
       "      <td>Placed</td>\n",
       "    </tr>\n",
       "    <tr>\n",
       "      <th>2</th>\n",
       "      <td>3</td>\n",
       "      <td>7.3</td>\n",
       "      <td>1</td>\n",
       "      <td>2</td>\n",
       "      <td>2</td>\n",
       "      <td>82</td>\n",
       "      <td>4.8</td>\n",
       "      <td>Yes</td>\n",
       "      <td>No</td>\n",
       "      <td>79</td>\n",
       "      <td>80</td>\n",
       "      <td>NotPlaced</td>\n",
       "    </tr>\n",
       "    <tr>\n",
       "      <th>3</th>\n",
       "      <td>4</td>\n",
       "      <td>7.5</td>\n",
       "      <td>1</td>\n",
       "      <td>1</td>\n",
       "      <td>2</td>\n",
       "      <td>85</td>\n",
       "      <td>4.4</td>\n",
       "      <td>Yes</td>\n",
       "      <td>Yes</td>\n",
       "      <td>81</td>\n",
       "      <td>80</td>\n",
       "      <td>Placed</td>\n",
       "    </tr>\n",
       "    <tr>\n",
       "      <th>4</th>\n",
       "      <td>5</td>\n",
       "      <td>8.3</td>\n",
       "      <td>1</td>\n",
       "      <td>2</td>\n",
       "      <td>2</td>\n",
       "      <td>86</td>\n",
       "      <td>4.5</td>\n",
       "      <td>Yes</td>\n",
       "      <td>Yes</td>\n",
       "      <td>74</td>\n",
       "      <td>88</td>\n",
       "      <td>Placed</td>\n",
       "    </tr>\n",
       "  </tbody>\n",
       "</table>\n",
       "</div>"
      ],
      "text/plain": [
       "   StudentID  CGPA  Internships  Projects  Workshops/Certifications  \\\n",
       "0          1   7.5            1         1                         1   \n",
       "1          2   8.9            0         3                         2   \n",
       "2          3   7.3            1         2                         2   \n",
       "3          4   7.5            1         1                         2   \n",
       "4          5   8.3            1         2                         2   \n",
       "\n",
       "   AptitudeTestScore  SoftSkillsRating ExtracurricularActivities  \\\n",
       "0                 65               4.4                        No   \n",
       "1                 90               4.0                       Yes   \n",
       "2                 82               4.8                       Yes   \n",
       "3                 85               4.4                       Yes   \n",
       "4                 86               4.5                       Yes   \n",
       "\n",
       "  PlacementTraining  SSC_Marks  HSC_Marks PlacementStatus  \n",
       "0                No         61         79       NotPlaced  \n",
       "1               Yes         78         82          Placed  \n",
       "2                No         79         80       NotPlaced  \n",
       "3               Yes         81         80          Placed  \n",
       "4               Yes         74         88          Placed  "
      ]
     },
     "execution_count": 4,
     "metadata": {},
     "output_type": "execute_result"
    }
   ],
   "source": [
    "df.head()"
   ]
  },
  {
   "cell_type": "code",
   "execution_count": 5,
   "id": "3e10d00d",
   "metadata": {},
   "outputs": [
    {
     "data": {
      "text/plain": [
       "StudentID                    0\n",
       "CGPA                         0\n",
       "Internships                  0\n",
       "Projects                     0\n",
       "Workshops/Certifications     0\n",
       "AptitudeTestScore            0\n",
       "SoftSkillsRating             0\n",
       "ExtracurricularActivities    0\n",
       "PlacementTraining            0\n",
       "SSC_Marks                    0\n",
       "HSC_Marks                    0\n",
       "PlacementStatus              0\n",
       "dtype: int64"
      ]
     },
     "execution_count": 5,
     "metadata": {},
     "output_type": "execute_result"
    }
   ],
   "source": [
    "df.isnull().sum()"
   ]
  },
  {
   "cell_type": "code",
   "execution_count": 6,
   "id": "aee0157e",
   "metadata": {},
   "outputs": [
    {
     "name": "stdout",
     "output_type": "stream",
     "text": [
      "<class 'pandas.core.frame.DataFrame'>\n",
      "RangeIndex: 10000 entries, 0 to 9999\n",
      "Data columns (total 12 columns):\n",
      " #   Column                     Non-Null Count  Dtype  \n",
      "---  ------                     --------------  -----  \n",
      " 0   StudentID                  10000 non-null  int64  \n",
      " 1   CGPA                       10000 non-null  float64\n",
      " 2   Internships                10000 non-null  int64  \n",
      " 3   Projects                   10000 non-null  int64  \n",
      " 4   Workshops/Certifications   10000 non-null  int64  \n",
      " 5   AptitudeTestScore          10000 non-null  int64  \n",
      " 6   SoftSkillsRating           10000 non-null  float64\n",
      " 7   ExtracurricularActivities  10000 non-null  object \n",
      " 8   PlacementTraining          10000 non-null  object \n",
      " 9   SSC_Marks                  10000 non-null  int64  \n",
      " 10  HSC_Marks                  10000 non-null  int64  \n",
      " 11  PlacementStatus            10000 non-null  object \n",
      "dtypes: float64(2), int64(7), object(3)\n",
      "memory usage: 937.6+ KB\n"
     ]
    }
   ],
   "source": [
    "df.info()"
   ]
  },
  {
   "cell_type": "code",
   "execution_count": 14,
   "id": "c1aff2e6",
   "metadata": {},
   "outputs": [
    {
     "name": "stdout",
     "output_type": "stream",
     "text": [
      "PlacementStatus  NotPlaced  Placed\n",
      "CGPA                              \n",
      "6.5                    716     117\n",
      "6.6                    228      50\n",
      "6.7                    213      52\n",
      "6.8                    168      44\n",
      "6.9                    119      46\n",
      "7.0                     90      31\n",
      "7.1                     62      30\n",
      "7.2                     99      28\n",
      "7.3                    227      40\n",
      "7.4                    492      98\n",
      "7.5                    635     163\n",
      "7.6                    598     216\n",
      "7.7                    430     192\n",
      "7.8                    263     190\n",
      "7.9                    197     187\n",
      "8.0                    189     256\n",
      "8.1                    209     325\n",
      "8.2                    217     438\n",
      "8.3                    217     445\n",
      "8.4                    194     414\n",
      "8.5                    105     323\n",
      "8.6                     71     238\n",
      "8.7                     39     148\n",
      "8.8                     15      71\n",
      "8.9                      8      41\n",
      "9.0                      2      11\n",
      "9.1                      0       3\n"
     ]
    }
   ],
   "source": [
    "summary = df.pivot_table(index='CGPA', columns='PlacementStatus', aggfunc='size', fill_value=0)\n",
    "print(summary)\n"
   ]
  },
  {
   "cell_type": "code",
   "execution_count": 15,
   "id": "ec91425b",
   "metadata": {},
   "outputs": [
    {
     "data": {
      "text/html": [
       "<div>\n",
       "<style scoped>\n",
       "    .dataframe tbody tr th:only-of-type {\n",
       "        vertical-align: middle;\n",
       "    }\n",
       "\n",
       "    .dataframe tbody tr th {\n",
       "        vertical-align: top;\n",
       "    }\n",
       "\n",
       "    .dataframe thead th {\n",
       "        text-align: right;\n",
       "    }\n",
       "</style>\n",
       "<table border=\"1\" class=\"dataframe\">\n",
       "  <thead>\n",
       "    <tr style=\"text-align: right;\">\n",
       "      <th></th>\n",
       "      <th>StudentID</th>\n",
       "      <th>CGPA</th>\n",
       "      <th>Internships</th>\n",
       "      <th>Projects</th>\n",
       "      <th>Workshops/Certifications</th>\n",
       "      <th>AptitudeTestScore</th>\n",
       "      <th>SoftSkillsRating</th>\n",
       "      <th>ExtracurricularActivities</th>\n",
       "      <th>PlacementTraining</th>\n",
       "      <th>SSC_Marks</th>\n",
       "      <th>HSC_Marks</th>\n",
       "      <th>PlacementStatus</th>\n",
       "    </tr>\n",
       "  </thead>\n",
       "  <tbody>\n",
       "    <tr>\n",
       "      <th>0</th>\n",
       "      <td>1</td>\n",
       "      <td>7.5</td>\n",
       "      <td>1</td>\n",
       "      <td>1</td>\n",
       "      <td>1</td>\n",
       "      <td>65</td>\n",
       "      <td>4.4</td>\n",
       "      <td>No</td>\n",
       "      <td>No</td>\n",
       "      <td>61</td>\n",
       "      <td>79</td>\n",
       "      <td>NotPlaced</td>\n",
       "    </tr>\n",
       "    <tr>\n",
       "      <th>1</th>\n",
       "      <td>2</td>\n",
       "      <td>8.9</td>\n",
       "      <td>0</td>\n",
       "      <td>3</td>\n",
       "      <td>2</td>\n",
       "      <td>90</td>\n",
       "      <td>4.0</td>\n",
       "      <td>Yes</td>\n",
       "      <td>Yes</td>\n",
       "      <td>78</td>\n",
       "      <td>82</td>\n",
       "      <td>Placed</td>\n",
       "    </tr>\n",
       "    <tr>\n",
       "      <th>2</th>\n",
       "      <td>3</td>\n",
       "      <td>7.3</td>\n",
       "      <td>1</td>\n",
       "      <td>2</td>\n",
       "      <td>2</td>\n",
       "      <td>82</td>\n",
       "      <td>4.8</td>\n",
       "      <td>Yes</td>\n",
       "      <td>No</td>\n",
       "      <td>79</td>\n",
       "      <td>80</td>\n",
       "      <td>NotPlaced</td>\n",
       "    </tr>\n",
       "    <tr>\n",
       "      <th>3</th>\n",
       "      <td>4</td>\n",
       "      <td>7.5</td>\n",
       "      <td>1</td>\n",
       "      <td>1</td>\n",
       "      <td>2</td>\n",
       "      <td>85</td>\n",
       "      <td>4.4</td>\n",
       "      <td>Yes</td>\n",
       "      <td>Yes</td>\n",
       "      <td>81</td>\n",
       "      <td>80</td>\n",
       "      <td>Placed</td>\n",
       "    </tr>\n",
       "    <tr>\n",
       "      <th>4</th>\n",
       "      <td>5</td>\n",
       "      <td>8.3</td>\n",
       "      <td>1</td>\n",
       "      <td>2</td>\n",
       "      <td>2</td>\n",
       "      <td>86</td>\n",
       "      <td>4.5</td>\n",
       "      <td>Yes</td>\n",
       "      <td>Yes</td>\n",
       "      <td>74</td>\n",
       "      <td>88</td>\n",
       "      <td>Placed</td>\n",
       "    </tr>\n",
       "  </tbody>\n",
       "</table>\n",
       "</div>"
      ],
      "text/plain": [
       "   StudentID  CGPA  Internships  Projects  Workshops/Certifications  \\\n",
       "0          1   7.5            1         1                         1   \n",
       "1          2   8.9            0         3                         2   \n",
       "2          3   7.3            1         2                         2   \n",
       "3          4   7.5            1         1                         2   \n",
       "4          5   8.3            1         2                         2   \n",
       "\n",
       "   AptitudeTestScore  SoftSkillsRating ExtracurricularActivities  \\\n",
       "0                 65               4.4                        No   \n",
       "1                 90               4.0                       Yes   \n",
       "2                 82               4.8                       Yes   \n",
       "3                 85               4.4                       Yes   \n",
       "4                 86               4.5                       Yes   \n",
       "\n",
       "  PlacementTraining  SSC_Marks  HSC_Marks PlacementStatus  \n",
       "0                No         61         79       NotPlaced  \n",
       "1               Yes         78         82          Placed  \n",
       "2                No         79         80       NotPlaced  \n",
       "3               Yes         81         80          Placed  \n",
       "4               Yes         74         88          Placed  "
      ]
     },
     "execution_count": 15,
     "metadata": {},
     "output_type": "execute_result"
    }
   ],
   "source": [
    "df.head()"
   ]
  },
  {
   "cell_type": "code",
   "execution_count": 16,
   "id": "df72072a",
   "metadata": {},
   "outputs": [
    {
     "name": "stdout",
     "output_type": "stream",
     "text": [
      "PlacementStatus            NotPlaced  Placed\n",
      "ExtracurricularActivities                   \n",
      "No                              3579     567\n",
      "Yes                             2224    3630\n"
     ]
    }
   ],
   "source": [
    "eac= df.pivot_table(index='ExtracurricularActivities', columns='PlacementStatus', aggfunc='size', fill_value=0)\n",
    "print(eac)\n"
   ]
  },
  {
   "cell_type": "code",
   "execution_count": null,
   "id": "b65339f2",
   "metadata": {},
   "outputs": [
    {
     "name": "stderr",
     "output_type": "stream",
     "text": [
      "C:\\Users\\hp\\AppData\\Local\\Temp\\ipykernel_171644\\3415849769.py:3: FutureWarning: \n",
      "\n",
      "Passing `palette` without assigning `hue` is deprecated and will be removed in v0.14.0. Assign the `x` variable to `hue` and set `legend=False` for the same effect.\n",
      "\n",
      "  sns.countplot(data=df, x='PlacementStatus', palette=custom_colors)\n"
     ]
    },
    {
     "data": {
      "image/png": "[encoded data removed]",
      "text/plain": [
       "<Figure size 600x500 with 1 Axes>"
      ]
     },
     "metadata": {},
     "output_type": "display_data"
    }
   ],
   "source": [
    "plt.figure(figsize=(6, 5))\n",
    "custom_colors = ['#2ca02c', '#d62728']\n",
    "sns.countplot(data=df, x='PlacementStatus', palette=custom_colors)\n",
    "plt.title('Placement Count by Status', fontsize=14)\n",
    "plt.xlabel('Placement Status', fontsize=12)\n",
    "plt.ylabel('Count', fontsize=12)\n",
    "plt.show()"
   ]
  },
  {
   "cell_type": "code",
   "execution_count": 34,
   "id": "826e2743",
   "metadata": {},
   "outputs": [
    {
     "data": {
      "text/html": [
       "<div>\n",
       "<style scoped>\n",
       "    .dataframe tbody tr th:only-of-type {\n",
       "        vertical-align: middle;\n",
       "    }\n",
       "\n",
       "    .dataframe tbody tr th {\n",
       "        vertical-align: top;\n",
       "    }\n",
       "\n",
       "    .dataframe thead th {\n",
       "        text-align: right;\n",
       "    }\n",
       "</style>\n",
       "<table border=\"1\" class=\"dataframe\">\n",
       "  <thead>\n",
       "    <tr style=\"text-align: right;\">\n",
       "      <th></th>\n",
       "      <th>StudentID</th>\n",
       "      <th>CGPA</th>\n",
       "      <th>Internships</th>\n",
       "      <th>Projects</th>\n",
       "      <th>Workshops/Certifications</th>\n",
       "      <th>AptitudeTestScore</th>\n",
       "      <th>SoftSkillsRating</th>\n",
       "      <th>ExtracurricularActivities</th>\n",
       "      <th>PlacementTraining</th>\n",
       "      <th>SSC_Marks</th>\n",
       "      <th>HSC_Marks</th>\n",
       "      <th>PlacementStatus</th>\n",
       "    </tr>\n",
       "  </thead>\n",
       "  <tbody>\n",
       "    <tr>\n",
       "      <th>0</th>\n",
       "      <td>1</td>\n",
       "      <td>7.5</td>\n",
       "      <td>1</td>\n",
       "      <td>1</td>\n",
       "      <td>1</td>\n",
       "      <td>65</td>\n",
       "      <td>4.4</td>\n",
       "      <td>No</td>\n",
       "      <td>No</td>\n",
       "      <td>61</td>\n",
       "      <td>79</td>\n",
       "      <td>NotPlaced</td>\n",
       "    </tr>\n",
       "    <tr>\n",
       "      <th>1</th>\n",
       "      <td>2</td>\n",
       "      <td>8.9</td>\n",
       "      <td>0</td>\n",
       "      <td>3</td>\n",
       "      <td>2</td>\n",
       "      <td>90</td>\n",
       "      <td>4.0</td>\n",
       "      <td>Yes</td>\n",
       "      <td>Yes</td>\n",
       "      <td>78</td>\n",
       "      <td>82</td>\n",
       "      <td>Placed</td>\n",
       "    </tr>\n",
       "    <tr>\n",
       "      <th>2</th>\n",
       "      <td>3</td>\n",
       "      <td>7.3</td>\n",
       "      <td>1</td>\n",
       "      <td>2</td>\n",
       "      <td>2</td>\n",
       "      <td>82</td>\n",
       "      <td>4.8</td>\n",
       "      <td>Yes</td>\n",
       "      <td>No</td>\n",
       "      <td>79</td>\n",
       "      <td>80</td>\n",
       "      <td>NotPlaced</td>\n",
       "    </tr>\n",
       "    <tr>\n",
       "      <th>3</th>\n",
       "      <td>4</td>\n",
       "      <td>7.5</td>\n",
       "      <td>1</td>\n",
       "      <td>1</td>\n",
       "      <td>2</td>\n",
       "      <td>85</td>\n",
       "      <td>4.4</td>\n",
       "      <td>Yes</td>\n",
       "      <td>Yes</td>\n",
       "      <td>81</td>\n",
       "      <td>80</td>\n",
       "      <td>Placed</td>\n",
       "    </tr>\n",
       "    <tr>\n",
       "      <th>4</th>\n",
       "      <td>5</td>\n",
       "      <td>8.3</td>\n",
       "      <td>1</td>\n",
       "      <td>2</td>\n",
       "      <td>2</td>\n",
       "      <td>86</td>\n",
       "      <td>4.5</td>\n",
       "      <td>Yes</td>\n",
       "      <td>Yes</td>\n",
       "      <td>74</td>\n",
       "      <td>88</td>\n",
       "      <td>Placed</td>\n",
       "    </tr>\n",
       "  </tbody>\n",
       "</table>\n",
       "</div>"
      ],
      "text/plain": [
       "   StudentID  CGPA  Internships  Projects  Workshops/Certifications  \\\n",
       "0          1   7.5            1         1                         1   \n",
       "1          2   8.9            0         3                         2   \n",
       "2          3   7.3            1         2                         2   \n",
       "3          4   7.5            1         1                         2   \n",
       "4          5   8.3            1         2                         2   \n",
       "\n",
       "   AptitudeTestScore  SoftSkillsRating ExtracurricularActivities  \\\n",
       "0                 65               4.4                        No   \n",
       "1                 90               4.0                       Yes   \n",
       "2                 82               4.8                       Yes   \n",
       "3                 85               4.4                       Yes   \n",
       "4                 86               4.5                       Yes   \n",
       "\n",
       "  PlacementTraining  SSC_Marks  HSC_Marks PlacementStatus  \n",
       "0                No         61         79       NotPlaced  \n",
       "1               Yes         78         82          Placed  \n",
       "2                No         79         80       NotPlaced  \n",
       "3               Yes         81         80          Placed  \n",
       "4               Yes         74         88          Placed  "
      ]
     },
     "execution_count": 34,
     "metadata": {},
     "output_type": "execute_result"
    }
   ],
   "source": [
    "df.head()"
   ]
  },
  {
   "cell_type": "code",
   "execution_count": 33,
   "id": "306560e8",
   "metadata": {},
   "outputs": [
    {
     "data": {
      "text/plain": [
       "<Axes: xlabel='PlacementStatus', ylabel='count'>"
      ]
     },
     "execution_count": 33,
     "metadata": {},
     "output_type": "execute_result"
    },
    {
     "data": {
      "image/png": "[encoded data removed]",
      "text/plain": [
       "<Figure size 640x480 with 1 Axes>"
      ]
     },
     "metadata": {},
     "output_type": "display_data"
    }
   ],
   "source": [
    "sns.countplot(x=df['PlacementStatus'],hue=df['Internships'])"
   ]
  },
  {
   "cell_type": "code",
   "execution_count": null,
   "id": "8738d519",
   "metadata": {},
   "outputs": [
    {
     "data": {
      "text/plain": [
       "<Axes: xlabel='PlacementStatus', ylabel='count'>"
      ]
     },
     "execution_count": 32,
     "metadata": {},
     "output_type": "execute_result"
    },
    {
     "data": {
      "image/png": "[encoded data removed]",
      "text/plain": [
       "<Figure size 640x480 with 1 Axes>"
      ]
     },
     "metadata": {},
     "output_type": "display_data"
    }
   ],
   "source": [
    "sns.countplot(x=df['PlacementStatus'],hue=df['Projects'])"
   ]
  },
  {
   "cell_type": "code",
   "execution_count": null,
   "id": "ccb9b10c",
   "metadata": {},
   "outputs": [],
   "source": []
  }
 ],
 "metadata": {
  "kernelspec": {
   "display_name": "venv",
   "language": "python",
   "name": "python3"
  },
  "language_info": {
   "codemirror_mode": {
    "name": "ipython",
    "version": 3
   },
   "file_extension": ".py",
   "mimetype": "text/x-python",
   "name": "python",
   "nbconvert_exporter": "python",
   "pygments_lexer": "ipython3",
   "version": "3.11.9"
  }
 },
 "nbformat": 4,
 "nbformat_minor": 5
}
